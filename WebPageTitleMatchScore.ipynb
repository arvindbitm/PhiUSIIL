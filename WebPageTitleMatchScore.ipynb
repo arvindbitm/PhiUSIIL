{
 "cells": [
  {
   "cell_type": "code",
   "execution_count": 50,
   "id": "b525ad21",
   "metadata": {},
   "outputs": [],
   "source": [
    "import numpy as np\n",
    "import pandas as pd\n",
    "import warnings\n",
    "warnings.filterwarnings('ignore')\n",
    "df=pd.read_csv(\"dataset/WebTitle.csv\")"
   ]
  },
  {
   "cell_type": "code",
   "execution_count": 1,
   "id": "87f8da2a",
   "metadata": {},
   "outputs": [],
   "source": [
    "def TitleMatchScore(Set,Txt):\n",
    "    score = 0\n",
    "    baseScore=100/(len(Txt))\n",
    "    for element in Set:              \n",
    "        if(Txt.find(element)>=0):\n",
    "            n = len(element)\n",
    "            score = score + baseScore * n\n",
    "            Txt=Txt.replace(element,\"\")\n",
    "    if(score>99.9):\n",
    "        score=100\n",
    "    return score"
   ]
  },
  {
   "cell_type": "code",
   "execution_count": 2,
   "id": "3ba6d5ff",
   "metadata": {},
   "outputs": [
    {
     "data": {
      "text/plain": [
       "50.0"
      ]
     },
     "execution_count": 2,
     "metadata": {},
     "output_type": "execute_result"
    }
   ],
   "source": [
    "TitleMatchScore('googlt ptv','google')"
   ]
  },
  {
   "cell_type": "code",
   "execution_count": 53,
   "id": "bae44d0e",
   "metadata": {},
   "outputs": [
    {
     "name": "stdout",
     "output_type": "stream",
     "text": [
      "0\n",
      "5000\n",
      "10000\n",
      "15000\n",
      "20000\n",
      "25000\n",
      "30000\n",
      "35000\n",
      "40000\n",
      "45000\n",
      "50000\n",
      "55000\n",
      "60000\n",
      "65000\n",
      "70000\n",
      "75000\n",
      "80000\n",
      "85000\n",
      "90000\n",
      "95000\n",
      "100000\n",
      "105000\n",
      "110000\n",
      "115000\n",
      "120000\n",
      "125000\n",
      "130000\n",
      "135000\n",
      "140000\n",
      "145000\n",
      "150000\n",
      "155000\n",
      "160000\n",
      "165000\n",
      "170000\n",
      "175000\n",
      "180000\n",
      "185000\n",
      "190000\n",
      "195000\n",
      "200000\n",
      "205000\n",
      "210000\n",
      "215000\n",
      "220000\n",
      "225000\n",
      "230000\n",
      "235000\n"
     ]
    },
    {
     "ename": "AttributeError",
     "evalue": "'float' object has no attribute 'split'",
     "output_type": "error",
     "traceback": [
      "\u001b[1;31m---------------------------------------------------------------------------\u001b[0m",
      "\u001b[1;31mAttributeError\u001b[0m                            Traceback (most recent call last)",
      "\u001b[1;32m~\\AppData\\Local\\Temp\\ipykernel_16520\\3277360826.py\u001b[0m in \u001b[0;36m<module>\u001b[1;34m\u001b[0m\n\u001b[0;32m      6\u001b[0m     \u001b[0mtitle\u001b[0m \u001b[1;33m=\u001b[0m \u001b[0mdf\u001b[0m\u001b[1;33m[\u001b[0m\u001b[1;34m'Title'\u001b[0m\u001b[1;33m]\u001b[0m\u001b[1;33m[\u001b[0m\u001b[0mi\u001b[0m\u001b[1;33m]\u001b[0m\u001b[1;33m\u001b[0m\u001b[1;33m\u001b[0m\u001b[0m\n\u001b[0;32m      7\u001b[0m     \u001b[0mTLD\u001b[0m \u001b[1;33m=\u001b[0m \u001b[0mdf\u001b[0m\u001b[1;33m[\u001b[0m\u001b[1;34m'TLD'\u001b[0m\u001b[1;33m]\u001b[0m\u001b[1;33m[\u001b[0m\u001b[0mi\u001b[0m\u001b[1;33m]\u001b[0m\u001b[1;33m\u001b[0m\u001b[1;33m\u001b[0m\u001b[0m\n\u001b[1;32m----> 8\u001b[1;33m     \u001b[0mtSet\u001b[0m \u001b[1;33m=\u001b[0m \u001b[0mtitle\u001b[0m\u001b[1;33m.\u001b[0m\u001b[0msplit\u001b[0m\u001b[1;33m(\u001b[0m\u001b[1;33m)\u001b[0m\u001b[1;33m\u001b[0m\u001b[1;33m\u001b[0m\u001b[0m\n\u001b[0m\u001b[0;32m      9\u001b[0m \u001b[1;33m\u001b[0m\u001b[0m\n\u001b[0;32m     10\u001b[0m     \u001b[0mURL\u001b[0m \u001b[1;33m=\u001b[0m \u001b[0mdf\u001b[0m\u001b[1;33m[\u001b[0m\u001b[1;34m'URL'\u001b[0m\u001b[1;33m]\u001b[0m\u001b[1;33m[\u001b[0m\u001b[0mi\u001b[0m\u001b[1;33m]\u001b[0m\u001b[1;33m\u001b[0m\u001b[1;33m\u001b[0m\u001b[0m\n",
      "\u001b[1;31mAttributeError\u001b[0m: 'float' object has no attribute 'split'"
     ]
    }
   ],
   "source": [
    "n = len(df.axes[0])\n",
    "tMatch = pd.DataFrame(columns=['FILENAME'])\n",
    "for i in range(0,n):  \n",
    "    newRow = {}\n",
    "    newRow['FILENAME'] = df['FILENAME'][i] \n",
    "    title = df['Title'][i]\n",
    "    TLD = df['TLD'][i]    \n",
    "    tSet = title.split()\n",
    "    \n",
    "    URL = df['URL'][i]\n",
    "    txtURL = URL.replace(\"https://\",\"\").replace(\"http://\",\"\").replace(\"www.\",\"\").replace(\".\"+TLD,\"\").replace(\"/\",\"\")\n",
    "    newRow['URLTitleMatchScore'] = TitleMatchScore(tSet,txtURL)\n",
    "    \n",
    "    Domain = df['Domain'][i]\n",
    "    txtDomain = Domain.replace(\"https://\",\"\").replace(\"http://\",\"\").replace(\"www.\",\"\").replace(\".\"+TLD,\"\").replace(\"/\",\"\")\n",
    "    newRow['DomainTitleMatchScore'] = TitleMatchScore(tSet,txtDomain)\n",
    "    \n",
    "    tMatch = tMatch.append(newRow , ignore_index=True)\n",
    "    if(i%5000==0):\n",
    "        print(i)\n",
    "tMatch.to_csv('dataset/ReportsMay11/TitleMatchScore.csv',index = False)\n",
    "tMatch.head(10)    "
   ]
  },
  {
   "cell_type": "code",
   "execution_count": 55,
   "id": "667fb4c6",
   "metadata": {},
   "outputs": [
    {
     "data": {
      "text/html": [
       "<div>\n",
       "<style scoped>\n",
       "    .dataframe tbody tr th:only-of-type {\n",
       "        vertical-align: middle;\n",
       "    }\n",
       "\n",
       "    .dataframe tbody tr th {\n",
       "        vertical-align: top;\n",
       "    }\n",
       "\n",
       "    .dataframe thead th {\n",
       "        text-align: right;\n",
       "    }\n",
       "</style>\n",
       "<table border=\"1\" class=\"dataframe\">\n",
       "  <thead>\n",
       "    <tr style=\"text-align: right;\">\n",
       "      <th></th>\n",
       "      <th>FILENAME</th>\n",
       "      <th>DomainTitleMatchScore</th>\n",
       "      <th>URLTitleMatchScore</th>\n",
       "    </tr>\n",
       "  </thead>\n",
       "  <tbody>\n",
       "    <tr>\n",
       "      <th>0</th>\n",
       "      <td>521848.txt</td>\n",
       "      <td>0.000000</td>\n",
       "      <td>0.000000</td>\n",
       "    </tr>\n",
       "    <tr>\n",
       "      <th>1</th>\n",
       "      <td>31372.txt</td>\n",
       "      <td>55.555556</td>\n",
       "      <td>55.555556</td>\n",
       "    </tr>\n",
       "    <tr>\n",
       "      <th>2</th>\n",
       "      <td>597387.txt</td>\n",
       "      <td>46.666667</td>\n",
       "      <td>46.666667</td>\n",
       "    </tr>\n",
       "    <tr>\n",
       "      <th>3</th>\n",
       "      <td>554095.txt</td>\n",
       "      <td>0.000000</td>\n",
       "      <td>0.000000</td>\n",
       "    </tr>\n",
       "    <tr>\n",
       "      <th>4</th>\n",
       "      <td>151578.txt</td>\n",
       "      <td>100.000000</td>\n",
       "      <td>100.000000</td>\n",
       "    </tr>\n",
       "    <tr>\n",
       "      <th>5</th>\n",
       "      <td>23107.txt</td>\n",
       "      <td>0.000000</td>\n",
       "      <td>0.000000</td>\n",
       "    </tr>\n",
       "    <tr>\n",
       "      <th>6</th>\n",
       "      <td>23034.txt</td>\n",
       "      <td>0.000000</td>\n",
       "      <td>0.000000</td>\n",
       "    </tr>\n",
       "    <tr>\n",
       "      <th>7</th>\n",
       "      <td>696732.txt</td>\n",
       "      <td>100.000000</td>\n",
       "      <td>100.000000</td>\n",
       "    </tr>\n",
       "    <tr>\n",
       "      <th>8</th>\n",
       "      <td>739255.txt</td>\n",
       "      <td>100.000000</td>\n",
       "      <td>100.000000</td>\n",
       "    </tr>\n",
       "    <tr>\n",
       "      <th>9</th>\n",
       "      <td>14486.txt</td>\n",
       "      <td>0.000000</td>\n",
       "      <td>0.000000</td>\n",
       "    </tr>\n",
       "  </tbody>\n",
       "</table>\n",
       "</div>"
      ],
      "text/plain": [
       "     FILENAME  DomainTitleMatchScore  URLTitleMatchScore\n",
       "0  521848.txt               0.000000            0.000000\n",
       "1   31372.txt              55.555556           55.555556\n",
       "2  597387.txt              46.666667           46.666667\n",
       "3  554095.txt               0.000000            0.000000\n",
       "4  151578.txt             100.000000          100.000000\n",
       "5   23107.txt               0.000000            0.000000\n",
       "6   23034.txt               0.000000            0.000000\n",
       "7  696732.txt             100.000000          100.000000\n",
       "8  739255.txt             100.000000          100.000000\n",
       "9   14486.txt               0.000000            0.000000"
      ]
     },
     "execution_count": 55,
     "metadata": {},
     "output_type": "execute_result"
    }
   ],
   "source": [
    "tMatch.to_csv('dataset/ReportsMay11/TitleMatchScore.csv',index = False)\n",
    "tMatch.head(10) "
   ]
  },
  {
   "cell_type": "code",
   "execution_count": null,
   "id": "77b5473a",
   "metadata": {},
   "outputs": [],
   "source": [
    "def TitleMatchScore1(Src, Tar):\n",
    "    N = len(Src)\n",
    "    res=0\n",
    "    for j in range(n):\n",
    "        #print(len(X),\" \",j,\" \",n,\" \",X,\" \",Y,\" \",res)\n",
    "        try:            \n",
    "            if(j!=n and X[j]==Y[j]):\n",
    "                res = res + wCalc(maxLen,j)\n",
    "            elif(X[j]==Y[j+1]):\n",
    "                a = Y[ : j]\n",
    "                b = Y[j + 1: ]\n",
    "                Y=a+b\n",
    "                X,Y,n = getMin(X, Y)      \n",
    "                j=j-1\n",
    "            if(res>99):\n",
    "                res=100\n",
    "                return res;\n",
    "        except:\n",
    "            pass\n",
    "        \n",
    "    if(res>99.9):\n",
    "        res=100\n",
    "    return res"
   ]
  },
  {
   "cell_type": "code",
   "execution_count": 2,
   "id": "00b6443c",
   "metadata": {},
   "outputs": [
    {
     "data": {
      "text/plain": [
       "'machinelearningmastery'"
      ]
     },
     "execution_count": 2,
     "metadata": {},
     "output_type": "execute_result"
    }
   ],
   "source": [
    "URL=\"https://www.machinelearningmastery.com\"\n",
    "txtURL = URL.replace(\"https://\",\"\").replace(\"http://\",\"\").replace(\"www.\",\"\").replace(\".com\",\"\").replace(\"/\",\"\")\n",
    "txtURL"
   ]
  },
  {
   "cell_type": "code",
   "execution_count": 3,
   "id": "5cec75d3",
   "metadata": {},
   "outputs": [
    {
     "ename": "TypeError",
     "evalue": "replace() argument 1 must be str, not set",
     "output_type": "error",
     "traceback": [
      "\u001b[1;31m---------------------------------------------------------------------------\u001b[0m",
      "\u001b[1;31mTypeError\u001b[0m                                 Traceback (most recent call last)",
      "\u001b[1;32m~\\AppData\\Local\\Temp\\ipykernel_7016\\3786200293.py\u001b[0m in \u001b[0;36m<module>\u001b[1;34m\u001b[0m\n\u001b[1;32m----> 1\u001b[1;33m \u001b[0mtxtURL\u001b[0m \u001b[1;33m=\u001b[0m \u001b[0mURL\u001b[0m\u001b[1;33m.\u001b[0m\u001b[0mreplace\u001b[0m\u001b[1;33m(\u001b[0m\u001b[1;33m{\u001b[0m\u001b[1;34m\"https://\"\u001b[0m\u001b[1;33m,\u001b[0m\u001b[1;34m\"www.\"\u001b[0m\u001b[1;33m,\u001b[0m\u001b[1;34m\".com\"\u001b[0m\u001b[1;33m}\u001b[0m\u001b[1;33m,\u001b[0m\u001b[1;34m\"\"\u001b[0m\u001b[1;33m)\u001b[0m\u001b[1;33m\u001b[0m\u001b[1;33m\u001b[0m\u001b[0m\n\u001b[0m\u001b[0;32m      2\u001b[0m \u001b[0mtxtURL\u001b[0m\u001b[1;33m\u001b[0m\u001b[1;33m\u001b[0m\u001b[0m\n",
      "\u001b[1;31mTypeError\u001b[0m: replace() argument 1 must be str, not set"
     ]
    }
   ],
   "source": [
    "txtURL = URL.replace({\"https://\",\"www.\",\".com\"},\"\")\n",
    "txtURL"
   ]
  },
  {
   "cell_type": "code",
   "execution_count": null,
   "id": "1f8e43bb",
   "metadata": {},
   "outputs": [],
   "source": []
  }
 ],
 "metadata": {
  "kernelspec": {
   "display_name": "Python 3 (ipykernel)",
   "language": "python",
   "name": "python3"
  },
  "language_info": {
   "codemirror_mode": {
    "name": "ipython",
    "version": 3
   },
   "file_extension": ".py",
   "mimetype": "text/x-python",
   "name": "python",
   "nbconvert_exporter": "python",
   "pygments_lexer": "ipython3",
   "version": "3.9.13"
  }
 },
 "nbformat": 4,
 "nbformat_minor": 5
}
