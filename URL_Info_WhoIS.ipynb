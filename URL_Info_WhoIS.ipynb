{
 "cells": [
  {
   "cell_type": "code",
   "execution_count": 3,
   "id": "354a657a",
   "metadata": {},
   "outputs": [],
   "source": [
    "def Crawl(ID, URL):\n",
    "    try:\n",
    "        domain = urlparse(URL).netloc\n",
    "        URL = URL.replace(\"https://wwww.\",\"\")\n",
    "        URL = URL.replace(\"http://wwww.\",\"\")\n",
    "        URL=\"https://www.whois.com/whois/\" + domain\n",
    "        with urllib.request.urlopen(URL) as f:            \n",
    "            print(ID + \" : \" + URL)\n",
    "            path = \"D:\\\\Backup_Work\\\\P7\\\\CODE\\\\SITES\\\\URLInfo\\\\\" + ID + \".txt\"\n",
    "            file = open(path,\"w\")\n",
    "            file.write(ID + \" \" + URL + \"\\n\" + f.read().decode('utf-8'))\n",
    "            file.close()\n",
    "    except urllib.error.URLError as e:\n",
    "        print(e.reason)\n",
    "    return None"
   ]
  },
  {
   "cell_type": "code",
   "execution_count": 4,
   "id": "34782e7c",
   "metadata": {},
   "outputs": [
    {
     "name": "stdout",
     "output_type": "stream",
     "text": [
      "1 : https://www.whois.com/whois/www.facebook.com\n",
      "\n",
      "3 : https://www.whois.com/whois/www.google.com\n",
      "\n",
      "5 : https://www.whois.com/whois/www.youtube.com\n",
      "\n",
      "7968215 : https://www.whois.com/whois/ancient-wave-738c.8p4uyjee.workers.dev\n",
      "7717655 : https://www.whois.com/whois/t.me\n",
      "7821707 : https://www.whois.com/whois/cnxu.sumtotal.host\n"
     ]
    }
   ],
   "source": [
    "import urllib.request\n",
    "from urllib.parse import urlparse\n",
    "FILEDATA = open('D:\\\\Backup_Work\\\\P7\\\\CODE\\\\URLInfo.txt', 'r', encoding=\"utf8\")\n",
    "LINES = FILEDATA.readlines()\n",
    "for LINE in LINES:\n",
    "    try:\n",
    "        Crawl(LINE[0:LINE.find(' ')], LINE[LINE.find(' ')+1: len(LINE)])\n",
    "    except:\n",
    "        pass"
   ]
  },
  {
   "cell_type": "code",
   "execution_count": null,
   "id": "74db014e",
   "metadata": {},
   "outputs": [],
   "source": []
  }
 ],
 "metadata": {
  "kernelspec": {
   "display_name": "Python 3 (ipykernel)",
   "language": "python",
   "name": "python3"
  },
  "language_info": {
   "codemirror_mode": {
    "name": "ipython",
    "version": 3
   },
   "file_extension": ".py",
   "mimetype": "text/x-python",
   "name": "python",
   "nbconvert_exporter": "python",
   "pygments_lexer": "ipython3",
   "version": "3.9.13"
  }
 },
 "nbformat": 4,
 "nbformat_minor": 5
}
