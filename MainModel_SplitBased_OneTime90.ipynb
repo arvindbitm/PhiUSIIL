{
 "cells": [
  {
   "cell_type": "code",
   "execution_count": 1,
   "id": "d5e70c52",
   "metadata": {
    "scrolled": true
   },
   "outputs": [
    {
     "name": "stderr",
     "output_type": "stream",
     "text": [
      "C:\\Users\\Arvind\\AppData\\Roaming\\Python\\Python38\\site-packages\\pandas\\core\\computation\\expressions.py:20: UserWarning: Pandas requires version '2.7.3' or newer of 'numexpr' (version '2.7.1' currently installed).\n",
      "  from pandas.core.computation.check import NUMEXPR_INSTALLED\n"
     ]
    },
    {
     "name": "stdout",
     "output_type": "stream",
     "text": [
      "Row-Column Count before cleaning: ( 235795  ,  56 )\n"
     ]
    },
    {
     "data": {
      "text/plain": [
       "label\n",
       "1        134850\n",
       "0        100945\n",
       "dtype: int64"
      ]
     },
     "execution_count": 1,
     "metadata": {},
     "output_type": "execute_result"
    }
   ],
   "source": [
    "#*****************************************Import********************************************\n",
    "import numpy as np\n",
    "import pandas as pd\n",
    "from sklearn.model_selection import train_test_split\n",
    "import warnings\n",
    "from sklearn.model_selection import cross_val_score\n",
    "from sklearn import metrics\n",
    "from sklearn import preprocessing\n",
    "import matplotlib.pyplot as plt\n",
    "warnings.filterwarnings('ignore')\n",
    "import time\n",
    "\n",
    "df=pd.read_csv(\"dataset/PhishingDataset.csv\")\n",
    "\n",
    "ROWS = len(df.axes[0]) \n",
    "COLUMNS = len(df.axes[1])\n",
    "df = df.replace([np.inf, -np.inf], np.nan)\n",
    "df=df.dropna()\n",
    "LABEL = df.iloc[:,-1:].columns[0]\n",
    "\n",
    "\n",
    "print(\"Row-Column Count before cleaning: (\", ROWS , \" , \",  COLUMNS , \")\")\n",
    "\n",
    "df.iloc[:,-1:].value_counts()"
   ]
  },
  {
   "cell_type": "code",
   "execution_count": 2,
   "id": "ba9e2509",
   "metadata": {
    "scrolled": true
   },
   "outputs": [
    {
     "name": "stdout",
     "output_type": "stream",
     "text": [
      "Finished Train-Test Split.\n"
     ]
    },
    {
     "data": {
      "text/plain": [
       "212215"
      ]
     },
     "execution_count": 2,
     "metadata": {},
     "output_type": "execute_result"
    }
   ],
   "source": [
    "#cols = df.select_dtypes(include=['float64','int64']).columns\n",
    "#dfAll = pd.DataFrame(df['FILENAME']).copy()\n",
    "#df = pd.DataFrame(df[cols]).copy()\n",
    "df = df.reset_index(drop=True)\n",
    "LABEL = df.iloc[:,-1:].columns[0]\n",
    "cols = ['LineOfCode', 'NoOfExternalRef', 'LargestLineLength', 'URLLength', 'NoOfImage', 'NoOfJS', 'NoOfSelfRef', 'NoOfCSS', \n",
    "        'URLCharProb', 'CharContinuationRate', 'LetterRatioInURL', 'IsHTTPS', 'SpacialCharRatioInURL','NoOfEmptyRef', \n",
    "        'NoOfOtherSpecialCharsInURL', 'HasDescription', 'HasSocialNet', 'DomainLength', 'DegitRatioInURL','NoOfDegitsInURL',\n",
    "        'HasCopyrightInfo', 'NoOfLettersInURL','TLDLegitimateProb', 'DomainTitleMatchScore', 'IsResponsive', \n",
    "        'HasHiddenFields', 'HasSubmitButton','NoOfSubDomain', 'HasFavicon', 'HasTitle',LABEL]\n",
    "df = pd.DataFrame(df[cols]).copy()\n",
    "df30, df70=train_test_split(df,test_size=.1)\n",
    "\n",
    "df30 = df30.reset_index(drop=True)\n",
    "df70 = df70.reset_index(drop=True)\n",
    "\n",
    "yTrain = pd.DataFrame(df30[LABEL]).copy()\n",
    "df30.drop(LABEL, axis=1, inplace=True)\n",
    "xTrain = pd.DataFrame(df30).copy()\n",
    "\n",
    "dfX = pd.DataFrame(df70[cols]).copy()\n",
    "dfX.drop(LABEL, axis=1, inplace=True)\n",
    "dfY = pd.DataFrame(df70[LABEL]).copy()\n",
    "print(\"Finished Train-Test Split.\")\n",
    "len(xTrain.axes[0]) "
   ]
  },
  {
   "cell_type": "code",
   "execution_count": 3,
   "id": "3958e2c5",
   "metadata": {},
   "outputs": [
    {
     "name": "stdout",
     "output_type": "stream",
     "text": [
      "Finished first training:  9\n"
     ]
    }
   ],
   "source": [
    "from sklearn.naive_bayes import BernoulliNB\n",
    "from sklearn.linear_model import PassiveAggressiveClassifier\n",
    "from sklearn.linear_model import SGDClassifier\n",
    "Models = []\n",
    "Models.append((\"BernoulliNB\",BernoulliNB(alpha= 0.01, binarize= 0.0, class_prior= None, fit_prior= False, force_alpha= True)))\n",
    "Models.append((\"PassiveAggressive\",PassiveAggressiveClassifier(C= 4, fit_intercept= False, n_iter_no_change= 50, n_jobs= 10, shuffle= True, verbose= 0)))\n",
    "Models.append((\"SGDClassifier\",SGDClassifier(alpha= 0.01, eta0= 100, n_iter_no_change= 50, n_jobs= 1)))\n",
    "\n",
    "start = time.time()\n",
    "for name, model in Models:\n",
    "    model.fit(xTrain, yTrain)\n",
    "end = time.time()\n",
    "OneTime = int(end - start)\n",
    "print(\"Finished first training: \", OneTime)"
   ]
  },
  {
   "cell_type": "code",
   "execution_count": 4,
   "id": "e5fa1a44",
   "metadata": {},
   "outputs": [
    {
     "name": "stdout",
     "output_type": "stream",
     "text": [
      "Time: 62  Accuracy: 0.997921967769296\n"
     ]
    }
   ],
   "source": [
    "Handler = pd.DataFrame(columns=['BernoulliNB','PassiveAggressive','SGDClassifier', 'sum','isCorrect','predicted',\n",
    "                                'label','LowSecurity','BestSecurity','HighSecurity','LearningRate','AverageLearningRate'])\n",
    "LRList = []\n",
    "AvgLRList = []\n",
    "n = len(dfX.axes[0])\n",
    "X = dfX.iloc[[0]].to_numpy() \n",
    "Y = dfY.iloc[[0]]\n",
    "Y = np.array(Y[LABEL])\n",
    "p = len(Models)    \n",
    "accurate=0\n",
    "start = time.time()\n",
    "for i in range(0,n):\n",
    "    try:\n",
    "        X = dfX.iloc[[i]].to_numpy() \n",
    "        Y = dfY.iloc[[i]]\n",
    "        Y = np.array(Y[LABEL])\n",
    "        predict=0\n",
    "        yP=0\n",
    "        nRow = {}\n",
    "        nRow['isCorrect'] = 0\n",
    "        nRow['LowSecurity'] = 0\n",
    "        nRow['BestSecurity'] = 0\n",
    "        nRow['HighSecurity'] = 0\n",
    "        \n",
    "        for name, model in Models:\n",
    "            pr = model.predict(X)\n",
    "            predict = predict + pr[0]\n",
    "            model.partial_fit(X, Y, classes=[0,1])\n",
    "            if(pr[0]==Y[0]):\n",
    "                nRow[name] = 1\n",
    "            else:\n",
    "                nRow[name] = 0\n",
    "\n",
    "        if (predict==1):\n",
    "            nRow['LowSecurity'] = 1\n",
    "        elif (predict==2):\n",
    "            yP = 1\n",
    "            nRow['LowSecurity'] = 1\n",
    "            nRow['BestSecurity'] = 1\n",
    "        elif (predict==3):\n",
    "            yP = 1\n",
    "            nRow['LowSecurity'] = 1\n",
    "            nRow['BestSecurity'] = 1\n",
    "            nRow['HighSecurity'] = 1\n",
    "            \n",
    "            \n",
    "        if(yP==Y[0]):\n",
    "            accurate = accurate + 1\n",
    "            nRow['isCorrect'] = 1\n",
    "        elif(i%250==0): \n",
    "            print(i)\n",
    "        nRow['sum'] = predict\n",
    "        nRow['predicted'] = yP\n",
    "        nRow['label'] = Y[0]\n",
    "          \n",
    "        LearnRate=accurate/n\n",
    "        AvgLearnRate=accurate/(i+1)\n",
    "        LRList.append(LearnRate)\n",
    "        AvgLRList.append(AvgLearnRate)\n",
    "        \n",
    "        nRow['LearningRate'] = LearnRate\n",
    "        nRow['AverageLearningRate'] = AvgLearnRate\n",
    "        \n",
    "        Handler=Handler.append(nRow , ignore_index=True)\n",
    "        \n",
    "    except Exception as ex:\n",
    "        print(ex)\n",
    "end = time.time()\n",
    "IncTime = int(end - start)\n",
    "Handler.to_csv('dataset/ReportsPhishing/Model_Result_29May_90.csv',index = False)\n",
    "print('Time:', IncTime, ' Accuracy:',accurate/n)"
   ]
  },
  {
   "cell_type": "code",
   "execution_count": 5,
   "id": "dd180900",
   "metadata": {},
   "outputs": [
    {
     "data": {
      "text/plain": [
       "[<matplotlib.lines.Line2D at 0x17ddfbb6970>]"
      ]
     },
     "execution_count": 5,
     "metadata": {},
     "output_type": "execute_result"
    },
    {
     "data": {
      "image/png": "[encoded data removed]",
      "text/plain": [
       "<Figure size 1296x720 with 1 Axes>"
      ]
     },
     "metadata": {
      "needs_background": "light"
     },
     "output_type": "display_data"
    }
   ],
   "source": [
    "import matplotlib.pyplot as plt\n",
    "plt.figure(figsize=(18,10))\n",
    "plt.plot(LRList)"
   ]
  },
  {
   "cell_type": "code",
   "execution_count": 6,
   "id": "64daa05b",
   "metadata": {},
   "outputs": [
    {
     "data": {
      "text/plain": [
       "[<matplotlib.lines.Line2D at 0x17ddddd3df0>]"
      ]
     },
     "execution_count": 6,
     "metadata": {},
     "output_type": "execute_result"
    },
    {
     "data": {
      "image/png": "[encoded data removed]",
      "text/plain": [
       "<Figure size 432x216 with 1 Axes>"
      ]
     },
     "metadata": {
      "needs_background": "light"
     },
     "output_type": "display_data"
    }
   ],
   "source": [
    "plt.figure(figsize=(6,3))\n",
    "plt.plot(AvgLRList)"
   ]
  },
  {
   "cell_type": "code",
   "execution_count": 7,
   "id": "223c90ad",
   "metadata": {},
   "outputs": [
    {
     "data": {
      "text/plain": [
       "[<matplotlib.lines.Line2D at 0x17ddab50460>]"
      ]
     },
     "execution_count": 7,
     "metadata": {},
     "output_type": "execute_result"
    },
    {
     "data": {
      "image/png": "[encoded data removed]",
      "text/plain": [
       "<Figure size 1296x576 with 1 Axes>"
      ]
     },
     "metadata": {
      "needs_background": "light"
     },
     "output_type": "display_data"
    }
   ],
   "source": [
    "plt.figure(figsize=(18,8))\n",
    "plt.plot(AvgLRList)"
   ]
  },
  {
   "cell_type": "code",
   "execution_count": 8,
   "id": "212ddb54",
   "metadata": {},
   "outputs": [
    {
     "name": "stdout",
     "output_type": "stream",
     "text": [
      "13392   9881   306   1\n",
      "Accuracy    :  0.986980491942324\n",
      "Precision   :  0.9776609724047306\n",
      "Sensitivity :  0.9999253341297692\n",
      "F1 Score    :  0.988667823262338\n",
      "MCC    :  0.9737158567207019\n"
     ]
    }
   ],
   "source": [
    "ResAnalysis = pd.DataFrame(columns=['yTest']).copy()\n",
    "ResAnalysis['yTest'] = Handler['label']\n",
    "ResAnalysis['M1Vote'] = Handler['LowSecurity']\n",
    "ResAnalysis['M1rTP'] = np.where(ResAnalysis['yTest'] == 1, \n",
    "                                   np.where(Handler['LowSecurity']==1, 1, 0), 0)\n",
    "ResAnalysis['M1rTN'] = np.where(ResAnalysis['yTest'] == 0, \n",
    "                                   np.where(Handler['LowSecurity']==0, 1, 0), 0)\n",
    "ResAnalysis['M1rFP'] = np.where(ResAnalysis['yTest'] == 0, \n",
    "                                   np.where(Handler['LowSecurity']==1, 1, 0), 0)\n",
    "ResAnalysis['M1rFN'] = np.where(ResAnalysis['yTest'] == 1, \n",
    "                                   np.where(Handler['LowSecurity']==0, 1, 0), 0)\n",
    "\n",
    "records = len(ResAnalysis['yTest'])\n",
    "CorretPred = np.where(ResAnalysis['yTest'] == ResAnalysis['M1Vote'], 1, 0).sum()\n",
    "TP = int(ResAnalysis['M1rTP'].sum())\n",
    "TN = int(ResAnalysis['M1rTN'].sum())\n",
    "FP = int(ResAnalysis['M1rFP'].sum())\n",
    "FN = int(ResAnalysis['M1rFN'].sum())\n",
    "print(TP, ' ' , TN, ' ', FP,' ', FN)\n",
    "\n",
    "MCC = int((TP*TN)-(FP*FN))/(int((TP+FP)*(TP+FN)*(TN+FP)*(TN+FN))**0.5)\n",
    "\n",
    "Accuracy = CorretPred/records\n",
    "Precision = TP/(TP+FP)\n",
    "Sensitivity = TP/(TP+FN)\n",
    "F1Score = 2* ((Precision*Sensitivity)/(Precision+Sensitivity))\n",
    "\n",
    "\n",
    "print(\"Accuracy    : \", Accuracy)\n",
    "print(\"Precision   : \", Precision)\n",
    "print(\"Sensitivity : \", Sensitivity)\n",
    "print(\"F1 Score    : \", F1Score )\n",
    "print(\"MCC    : \", MCC )\n",
    "\n",
    "Metrics= pd.DataFrame()\n",
    "newRow = {}\n",
    "newRow['Mode'] = \"LowSecurity\"\n",
    "newRow['Accuracy'] = Accuracy\n",
    "newRow['Precision'] = Precision\n",
    "newRow['Sensitivity'] = Sensitivity\n",
    "newRow['F1Score'] = F1Score\n",
    "newRow['MCC'] = MCC\n",
    "newRow['OneTime'] = OneTime\n",
    "newRow['IncTime'] = IncTime\n",
    "Metrics=Metrics.append(newRow , ignore_index=True)\n",
    "\n",
    "CM= pd.DataFrame()\n",
    "newRow = {}\n",
    "newRow['Mode'] = \"LowSecurity\"\n",
    "newRow['TP'] = TP\n",
    "newRow['TN'] = TN\n",
    "newRow['FP'] = FP\n",
    "newRow['FN'] = FN\n",
    "CM=CM.append(newRow , ignore_index=True)"
   ]
  },
  {
   "cell_type": "code",
   "execution_count": 9,
   "id": "8061ee5b",
   "metadata": {},
   "outputs": [
    {
     "name": "stdout",
     "output_type": "stream",
     "text": [
      "13372   10159   28   21\n",
      "Accuracy    :  0.997921967769296\n",
      "Precision   :  0.997910447761194\n",
      "Sensitivity :  0.9984320167251549\n",
      "F1 Score    :  0.9981711641100288\n",
      "MCC    :  0.9957654940962835\n"
     ]
    }
   ],
   "source": [
    "ResAnalysis = pd.DataFrame(columns=['yTest']).copy()\n",
    "ResAnalysis['yTest'] = Handler['label']\n",
    "ResAnalysis['M2Vote'] = Handler['BestSecurity']\n",
    "ResAnalysis['M2rTP'] = np.where(ResAnalysis['yTest'] == 1, \n",
    "                                   np.where(Handler['BestSecurity']==1, 1, 0), 0)\n",
    "ResAnalysis['M2rTN'] = np.where(ResAnalysis['yTest'] == 0, \n",
    "                                   np.where(Handler['BestSecurity']==0, 1, 0), 0)\n",
    "ResAnalysis['M2rFP'] = np.where(ResAnalysis['yTest'] == 0, \n",
    "                                   np.where(Handler['BestSecurity']==1, 1, 0), 0)\n",
    "ResAnalysis['M2rFN'] = np.where(ResAnalysis['yTest'] == 1, \n",
    "                                   np.where(Handler['BestSecurity']==0, 1, 0), 0)\n",
    "\n",
    "records = len(ResAnalysis['yTest'])\n",
    "CorretPred = np.where(ResAnalysis['yTest'] == ResAnalysis['M2Vote'], 1, 0).sum()\n",
    "TP = int(ResAnalysis['M2rTP'].sum())\n",
    "TN = int(ResAnalysis['M2rTN'].sum())\n",
    "FP = int(ResAnalysis['M2rFP'].sum())\n",
    "FN = int(ResAnalysis['M2rFN'].sum())\n",
    "print(TP, ' ' , TN, ' ', FP,' ', FN)\n",
    "\n",
    "MCC = int((TP*TN)-(FP*FN))/(int((TP+FP)*(TP+FN)*(TN+FP)*(TN+FN))**0.5)\n",
    "\n",
    "Accuracy = CorretPred/records\n",
    "Precision = TP/(TP+FP)\n",
    "Sensitivity = TP/(TP+FN)\n",
    "F1Score = 2* ((Precision*Sensitivity)/(Precision+Sensitivity))\n",
    "\n",
    "\n",
    "print(\"Accuracy    : \", Accuracy)\n",
    "print(\"Precision   : \", Precision)\n",
    "print(\"Sensitivity : \", Sensitivity)\n",
    "print(\"F1 Score    : \", F1Score )\n",
    "print(\"MCC    : \", MCC )\n",
    "\n",
    "newRow = {}\n",
    "newRow['Mode'] = \"BestSecurity\"\n",
    "newRow['Accuracy'] = Accuracy\n",
    "newRow['Precision'] = Precision\n",
    "newRow['Sensitivity'] = Sensitivity\n",
    "newRow['F1Score'] = F1Score\n",
    "newRow['MCC'] = MCC\n",
    "newRow['OneTime'] = OneTime\n",
    "newRow['IncTime'] = IncTime\n",
    "Metrics=Metrics.append(newRow , ignore_index=True)\n",
    "\n",
    "newRow = {}\n",
    "newRow['Mode'] = \"BestSecurity\"\n",
    "newRow['TP'] = TP\n",
    "newRow['TN'] = TN\n",
    "newRow['FP'] = FP\n",
    "newRow['FN'] = FN\n",
    "CM=CM.append(newRow , ignore_index=True)"
   ]
  },
  {
   "cell_type": "code",
   "execution_count": 10,
   "id": "cae34d02",
   "metadata": {},
   "outputs": [
    {
     "name": "stdout",
     "output_type": "stream",
     "text": [
      "13160   10186   1   233\n",
      "Accuracy    :  0.9900763358778626\n",
      "Precision   :  0.9999240179317681\n",
      "Sensitivity :  0.9826028522362428\n",
      "F1 Score    :  0.9911877683211568\n",
      "MCC    :  0.980029740355999\n"
     ]
    }
   ],
   "source": [
    "ResAnalysis = pd.DataFrame(columns=['yTest']).copy()\n",
    "ResAnalysis['yTest'] = Handler['label']\n",
    "ResAnalysis['M3Vote'] = Handler['HighSecurity']\n",
    "ResAnalysis['M3rTP'] = np.where(ResAnalysis['yTest'] == 1, \n",
    "                                   np.where(Handler['HighSecurity']==1, 1, 0), 0)\n",
    "ResAnalysis['M3rTN'] = np.where(ResAnalysis['yTest'] == 0, \n",
    "                                   np.where(Handler['HighSecurity']==0, 1, 0), 0)\n",
    "ResAnalysis['M3rFP'] = np.where(ResAnalysis['yTest'] == 0, \n",
    "                                   np.where(Handler['HighSecurity']==1, 1, 0), 0)\n",
    "ResAnalysis['M3rFN'] = np.where(ResAnalysis['yTest'] == 1, \n",
    "                                   np.where(Handler['HighSecurity']==0, 1, 0), 0)\n",
    "\n",
    "records = len(ResAnalysis['yTest'])\n",
    "CorretPred = np.where(ResAnalysis['yTest'] == ResAnalysis['M3Vote'], 1, 0).sum()\n",
    "TP = int(ResAnalysis['M3rTP'].sum())\n",
    "TN = int(ResAnalysis['M3rTN'].sum())\n",
    "FP = int(ResAnalysis['M3rFP'].sum())\n",
    "FN = int(ResAnalysis['M3rFN'].sum())\n",
    "print(TP, ' ' , TN, ' ', FP,' ', FN)\n",
    "\n",
    "MCC = int((TP*TN)-(FP*FN))/(int((TP+FP)*(TP+FN)*(TN+FP)*(TN+FN))**0.5)\n",
    "\n",
    "Accuracy = CorretPred/records\n",
    "Precision = TP/(TP+FP)\n",
    "Sensitivity = TP/(TP+FN)\n",
    "F1Score = 2* ((Precision*Sensitivity)/(Precision+Sensitivity))\n",
    "\n",
    "\n",
    "print(\"Accuracy    : \", Accuracy)\n",
    "print(\"Precision   : \", Precision)\n",
    "print(\"Sensitivity : \", Sensitivity)\n",
    "print(\"F1 Score    : \", F1Score )\n",
    "print(\"MCC    : \", MCC )\n",
    "\n",
    "newRow = {}\n",
    "newRow['Mode'] = \"HighSecurity\"\n",
    "newRow['Accuracy'] = Accuracy\n",
    "newRow['Precision'] = Precision\n",
    "newRow['Sensitivity'] = Sensitivity\n",
    "newRow['F1Score'] = F1Score\n",
    "newRow['MCC'] = MCC\n",
    "newRow['OneTime'] = OneTime\n",
    "newRow['IncTime'] = IncTime\n",
    "Metrics=Metrics.append(newRow , ignore_index=True)\n",
    "\n",
    "newRow = {}\n",
    "newRow['Mode'] = \"HighSecurity\"\n",
    "newRow['TP'] = TP\n",
    "newRow['TN'] = TN\n",
    "newRow['FP'] = FP\n",
    "newRow['FN'] = FN\n",
    "CM=CM.append(newRow , ignore_index=True)"
   ]
  },
  {
   "cell_type": "code",
   "execution_count": 11,
   "id": "35dd8b9d",
   "metadata": {},
   "outputs": [
    {
     "data": {
      "text/html": [
       "<div>\n",
       "<style scoped>\n",
       "    .dataframe tbody tr th:only-of-type {\n",
       "        vertical-align: middle;\n",
       "    }\n",
       "\n",
       "    .dataframe tbody tr th {\n",
       "        vertical-align: top;\n",
       "    }\n",
       "\n",
       "    .dataframe thead th {\n",
       "        text-align: right;\n",
       "    }\n",
       "</style>\n",
       "<table border=\"1\" class=\"dataframe\">\n",
       "  <thead>\n",
       "    <tr style=\"text-align: right;\">\n",
       "      <th></th>\n",
       "      <th>Mode</th>\n",
       "      <th>Accuracy</th>\n",
       "      <th>Precision</th>\n",
       "      <th>Sensitivity</th>\n",
       "      <th>F1Score</th>\n",
       "      <th>MCC</th>\n",
       "      <th>OneTime</th>\n",
       "      <th>IncTime</th>\n",
       "    </tr>\n",
       "  </thead>\n",
       "  <tbody>\n",
       "    <tr>\n",
       "      <th>0</th>\n",
       "      <td>LowSecurity</td>\n",
       "      <td>0.986980</td>\n",
       "      <td>0.977661</td>\n",
       "      <td>0.999925</td>\n",
       "      <td>0.988668</td>\n",
       "      <td>0.973716</td>\n",
       "      <td>9</td>\n",
       "      <td>62</td>\n",
       "    </tr>\n",
       "    <tr>\n",
       "      <th>1</th>\n",
       "      <td>BestSecurity</td>\n",
       "      <td>0.997922</td>\n",
       "      <td>0.997910</td>\n",
       "      <td>0.998432</td>\n",
       "      <td>0.998171</td>\n",
       "      <td>0.995765</td>\n",
       "      <td>9</td>\n",
       "      <td>62</td>\n",
       "    </tr>\n",
       "    <tr>\n",
       "      <th>2</th>\n",
       "      <td>HighSecurity</td>\n",
       "      <td>0.990076</td>\n",
       "      <td>0.999924</td>\n",
       "      <td>0.982603</td>\n",
       "      <td>0.991188</td>\n",
       "      <td>0.980030</td>\n",
       "      <td>9</td>\n",
       "      <td>62</td>\n",
       "    </tr>\n",
       "  </tbody>\n",
       "</table>\n",
       "</div>"
      ],
      "text/plain": [
       "           Mode  Accuracy  Precision  Sensitivity   F1Score       MCC  \\\n",
       "0   LowSecurity  0.986980   0.977661     0.999925  0.988668  0.973716   \n",
       "1  BestSecurity  0.997922   0.997910     0.998432  0.998171  0.995765   \n",
       "2  HighSecurity  0.990076   0.999924     0.982603  0.991188  0.980030   \n",
       "\n",
       "   OneTime  IncTime  \n",
       "0        9       62  \n",
       "1        9       62  \n",
       "2        9       62  "
      ]
     },
     "execution_count": 11,
     "metadata": {},
     "output_type": "execute_result"
    }
   ],
   "source": [
    "Metrics"
   ]
  },
  {
   "cell_type": "code",
   "execution_count": 12,
   "id": "1ea5d92d",
   "metadata": {},
   "outputs": [
    {
     "data": {
      "text/html": [
       "<div>\n",
       "<style scoped>\n",
       "    .dataframe tbody tr th:only-of-type {\n",
       "        vertical-align: middle;\n",
       "    }\n",
       "\n",
       "    .dataframe tbody tr th {\n",
       "        vertical-align: top;\n",
       "    }\n",
       "\n",
       "    .dataframe thead th {\n",
       "        text-align: right;\n",
       "    }\n",
       "</style>\n",
       "<table border=\"1\" class=\"dataframe\">\n",
       "  <thead>\n",
       "    <tr style=\"text-align: right;\">\n",
       "      <th></th>\n",
       "      <th>Mode</th>\n",
       "      <th>TP</th>\n",
       "      <th>TN</th>\n",
       "      <th>FP</th>\n",
       "      <th>FN</th>\n",
       "    </tr>\n",
       "  </thead>\n",
       "  <tbody>\n",
       "    <tr>\n",
       "      <th>0</th>\n",
       "      <td>LowSecurity</td>\n",
       "      <td>13392</td>\n",
       "      <td>9881</td>\n",
       "      <td>306</td>\n",
       "      <td>1</td>\n",
       "    </tr>\n",
       "    <tr>\n",
       "      <th>1</th>\n",
       "      <td>BestSecurity</td>\n",
       "      <td>13372</td>\n",
       "      <td>10159</td>\n",
       "      <td>28</td>\n",
       "      <td>21</td>\n",
       "    </tr>\n",
       "    <tr>\n",
       "      <th>2</th>\n",
       "      <td>HighSecurity</td>\n",
       "      <td>13160</td>\n",
       "      <td>10186</td>\n",
       "      <td>1</td>\n",
       "      <td>233</td>\n",
       "    </tr>\n",
       "  </tbody>\n",
       "</table>\n",
       "</div>"
      ],
      "text/plain": [
       "           Mode     TP     TN   FP   FN\n",
       "0   LowSecurity  13392   9881  306    1\n",
       "1  BestSecurity  13372  10159   28   21\n",
       "2  HighSecurity  13160  10186    1  233"
      ]
     },
     "execution_count": 12,
     "metadata": {},
     "output_type": "execute_result"
    }
   ],
   "source": [
    "CM"
   ]
  },
  {
   "cell_type": "code",
   "execution_count": null,
   "id": "d66bffdb",
   "metadata": {},
   "outputs": [],
   "source": []
  }
 ],
 "metadata": {
  "kernelspec": {
   "display_name": "Python 3 (ipykernel)",
   "language": "python",
   "name": "python3"
  },
  "language_info": {
   "codemirror_mode": {
    "name": "ipython",
    "version": 3
   },
   "file_extension": ".py",
   "mimetype": "text/x-python",
   "name": "python",
   "nbconvert_exporter": "python",
   "pygments_lexer": "ipython3",
   "version": "3.9.13"
  }
 },
 "nbformat": 4,
 "nbformat_minor": 5
}
