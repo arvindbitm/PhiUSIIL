{
 "cells": [
  {
   "cell_type": "code",
   "execution_count": 1,
   "id": "d150cc15",
   "metadata": {},
   "outputs": [],
   "source": [
    "import numpy as np\n",
    "import pandas as pd\n",
    "import time\n",
    "from urllib.parse import urlparse\n",
    "import warnings\n",
    "warnings.filterwarnings('ignore')"
   ]
  },
  {
   "cell_type": "code",
   "execution_count": 1,
   "id": "0d4f10f6",
   "metadata": {},
   "outputs": [],
   "source": [
    "def CharConRate(url):\n",
    "    rate=0\n",
    "    ln=len(url)\n",
    "    chC, nmC, spC = 0,0,0\n",
    "    maxCh, maxNm, MaxSp = 0,0,0\n",
    "    for i in range(0,ln):\n",
    "        ch = url[i]\n",
    "        if ch.isalpha():\n",
    "            chC=chC+1\n",
    "            if(nmC>0):\n",
    "                if(maxNm<nmC):\n",
    "                    maxNm=nmC\n",
    "                    nmC=0\n",
    "            elif(spC>0):\n",
    "                if(MaxSp<spC):\n",
    "                    MaxSp=spC\n",
    "                    spC=0\n",
    "            nmC,spC=0,0\n",
    "                \n",
    "        elif ch.isdigit():\n",
    "            nmC=nmC+1\n",
    "            if(chC>0):\n",
    "                if(maxCh<chC):\n",
    "                    maxCh=chC\n",
    "                    chC=0\n",
    "            elif(spC>0):\n",
    "                if(MaxSp<spC):\n",
    "                    MaxSp=spC\n",
    "                    spC=0\n",
    "            chC,spC=0,0\n",
    "        else:\n",
    "            spC=spC+1\n",
    "            if(nmC>0):\n",
    "                if(maxNm<nmC):\n",
    "                    maxNm=nmC\n",
    "                    nmC=0\n",
    "            elif(chC>0):\n",
    "                if(maxCh<chC):\n",
    "                    maxCh=chC\n",
    "                    chC=0\n",
    "            nmC,chC=0,0\n",
    "    \n",
    "    if(maxCh<chC):\n",
    "        maxCh=chC\n",
    "    if(maxNm<nmC):\n",
    "        maxNm=nmC\n",
    "    if(MaxSp<spC):\n",
    "        MaxSp=spC\n",
    "    return (maxCh+maxNm+MaxSp)/ln"
   ]
  },
  {
   "cell_type": "code",
   "execution_count": 22,
   "id": "ba0acbde",
   "metadata": {},
   "outputs": [
    {
     "name": "stdout",
     "output_type": "stream",
     "text": [
      "www. abc123 .com\t 1.0\n",
      "www. abc_123 .com\t 1.0\n",
      "www. a1b2c3 .com\t 0.3333333333333333\n",
      "www. a_1b_2 .com\t 0.5\n"
     ]
    }
   ],
   "source": [
    "web='abc123'\n",
    "print(\"www.\",web,\".com\t\", CharConRate(web))\n",
    "web='abc_123'\n",
    "print(\"www.\",web,\".com\t\", CharConRate(web))\n",
    "web='a1b2c3'\n",
    "print(\"www.\",web,\".com\t\", CharConRate(web))\n",
    "web='a_1b_2'\n",
    "print(\"www.\",web,\".com\t\", CharConRate(web))"
   ]
  },
  {
   "cell_type": "code",
   "execution_count": null,
   "id": "51aaf186",
   "metadata": {},
   "outputs": [],
   "source": [
    "www.a1b2c3.com or\n",
    "www.a1b2.com"
   ]
  },
  {
   "cell_type": "code",
   "execution_count": 10,
   "id": "7731aa19",
   "metadata": {},
   "outputs": [
    {
     "name": "stdout",
     "output_type": "stream",
     "text": [
      "a\n",
      "b\n",
      "c\n",
      "d\n",
      "e\n",
      "f\n",
      "g\n",
      "h\n"
     ]
    }
   ],
   "source": [
    "URL = 'abc123defgh'\n",
    "N = len(URL)\n",
    "maxCh, maxNm, MaxSp = 0,0,0\n",
    "Ch, Nm, Sp = 0,0,0\n",
    "for i in range(0,N):\n",
    "    ch = URL[i]\n",
    "    if ch.isalpha():\n",
    "        print(ch)"
   ]
  },
  {
   "cell_type": "code",
   "execution_count": null,
   "id": "dc2cb8b1",
   "metadata": {},
   "outputs": [],
   "source": []
  },
  {
   "cell_type": "code",
   "execution_count": 3,
   "id": "05330bf0",
   "metadata": {},
   "outputs": [
    {
     "name": "stdout",
     "output_type": "stream",
     "text": [
      "0\n",
      "5000\n",
      "dzco\n",
      "10000\n",
      "15000\n",
      "onlinepillsco\n",
      "20000\n",
      "25000\n",
      "30000\n",
      "35000\n",
      "40000\n",
      "psyco\n",
      "45000\n",
      "50000\n",
      "55000\n",
      "60000\n",
      "65000\n",
      "70000\n",
      "75000\n",
      "xxxmob\n",
      "80000\n",
      "85000\n",
      "90000\n",
      "95000\n",
      "100000\n",
      "105000\n",
      "110000\n",
      "115000\n",
      "120000\n",
      "125000\n",
      "130000\n",
      "135000\n",
      "140000\n",
      "145000\n",
      "150000\n",
      "155000\n",
      "160000\n",
      "165000\n",
      "170000\n",
      "175000\n",
      "180000\n",
      "185000\n",
      "190000\n",
      "195000\n",
      "200000\n",
      "205000\n",
      "210000\n",
      "215000\n",
      "220000\n",
      "225000\n",
      "230000\n",
      "235000\n"
     ]
    }
   ],
   "source": [
    "dfTest=pd.read_csv(\"dataset/P7_CharContinuationRate.csv\")\n",
    "testLen = len(dfTest['domain'])\n",
    "\n",
    "RESULT = pd.DataFrame(columns=['FILENAME','domain', 'r_domain','url_charcontinuationrate'])\n",
    "for i in range(testLen):\n",
    "    try:        \n",
    "        domain = dfTest['domain'][i]\n",
    "        domain = domain.replace(\"https://\",\"\").replace(\"http://\",\"\")\n",
    "        if(domain.find('www.')==0):\n",
    "            domain = domain.replace(\"www.\",\"\")\n",
    "        domain = domain[0:domain.rindex(\".\")]\n",
    "        rt = CharConRate(domain)\n",
    "        newRow = {'FILENAME':dfTest['FILENAME'][i],'domain':dfTest['domain'][i], 'r_domain':domain,'url_charcontinuationrate':rt}\n",
    "        RESULT = RESULT.append(newRow , ignore_index=True)\n",
    "        if(i%5000==0):\n",
    "            RESULT.to_csv('dataset/P7_CharContinuationRate_Report.csv', index = False)\n",
    "            print(i)\n",
    "    except:\n",
    "        newRow = {'FILENAME':dfTest['FILENAME'][i],'domain':dfTest['domain'][i], 'r_domain':domain,'url_charcontinuationrate':-1}\n",
    "        RESULT = RESULT.append(newRow , ignore_index=True)\n",
    "        print(domain)\n",
    "RESULT.to_csv('dataset/FeaturesMay10/P7_CharContinuationRate.csv', index = False)"
   ]
  }
 ],
 "metadata": {
  "kernelspec": {
   "display_name": "Python 3 (ipykernel)",
   "language": "python",
   "name": "python3"
  },
  "language_info": {
   "codemirror_mode": {
    "name": "ipython",
    "version": 3
   },
   "file_extension": ".py",
   "mimetype": "text/x-python",
   "name": "python",
   "nbconvert_exporter": "python",
   "pygments_lexer": "ipython3",
   "version": "3.9.13"
  }
 },
 "nbformat": 4,
 "nbformat_minor": 5
}
